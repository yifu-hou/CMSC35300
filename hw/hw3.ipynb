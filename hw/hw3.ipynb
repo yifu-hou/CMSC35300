{
 "cells": [
  {
   "cell_type": "markdown",
   "metadata": {},
   "source": [
    "# Homework 3"
   ]
  },
  {
   "cell_type": "markdown",
   "metadata": {},
   "source": [
    "#### 3.a"
   ]
  },
  {
   "cell_type": "markdown",
   "metadata": {},
   "source": [
    "To address this, we could asign numeric labels to three different categorical </p>\n",
    "labels: </p>\n",
    "***'setosa' = -1, versicolor = 0, virginica = 1*** </p>\n",
    "With these values, we get the weights ***w*** from ***X*** and ***y***, </p>\n",
    "and compute the projection of $\\hat{y}$. At last, we round up the result ***a*** to our labels: </p>\n",
    "$\\hat{y}$ = -1, if a < -0.5, </p>\n",
    "$\\hat{y}$ = 0,  if -0.5 <= a <= 0.5, </p>\n",
    "$\\hat{y}$ = 1,  if a > 0.5"
   ]
  },
  {
   "cell_type": "markdown",
   "metadata": {},
   "source": [
    "#### 3.b"
   ]
  },
  {
   "cell_type": "code",
   "execution_count": 13,
   "metadata": {},
   "outputs": [
    {
     "name": "stdout",
     "output_type": "stream",
     "text": [
      "After 10000 rounds of testing, the average error rate is 0.032\n"
     ]
    }
   ],
   "source": [
    "import numpy as np\n",
    "import scipy.io\n",
    "data = scipy.io.loadmat(\"fisheriris.mat\")\n",
    "X = data['meas']\n",
    "y = data['species']\n",
    "\n",
    "# YOUR CODE BELOW (process and assign numerical values to ‘y‘ according\n",
    "# to your (a), make sure ‘y‘ is a 1d numpy array. If dimensions are\n",
    "# mismatching, you may find ‘y = y.flatten()‘ useful ) \n",
    "y = [sp[0][0] for sp in y]\n",
    "replace = {\"setosa\": -1, \"versicolor\": 0, \"virginica\": 1}\n",
    "y = np.array([replace[sp] for sp in y])\n",
    "\n",
    "\n",
    "# number of random trials\n",
    "N = 10000\n",
    "# array to store errors\n",
    "errs = np.zeros(N)\n",
    "# size of training set\n",
    "num_train = 40\n",
    "\n",
    "for i in np.arange(1, N+1):\n",
    "    # for each experiment, randomly pick training and holdout sets\n",
    "    idx_train = np.zeros(0, dtype=np.intp)\n",
    "    idx_holdout = np.zeros(0, dtype=np.intp)\n",
    "    for label_type in range(3):\n",
    "        r = np.random.permutation(50)\n",
    "        idx_train = np.concatenate((idx_train, 50 * label_type + r[:num_train]))\n",
    "        idx_holdout = np.concatenate((idx_holdout, 50 * label_type + r[num_train:]))\n",
    "    # divide data and labels into subsets \n",
    "    Xt = X[idx_train, :]\n",
    "    yt = y[idx_train]\n",
    "    Xh = X[idx_holdout]\n",
    "    yh = y[idx_holdout]\n",
    "\n",
    "    # get float prediction\n",
    "    XTX_inv = np.linalg.inv(np.dot(Xt.T, Xt))\n",
    "    w = np.dot(np.dot(XTX_inv, Xt.T), yt)\n",
    "    a = np.dot(Xh, w)\n",
    "\n",
    "    # logistic function to get predicted labels\n",
    "    y_hat = [] \n",
    "    for pred in a:\n",
    "        if pred >= 0.5:\n",
    "            y_hat.append(1)\n",
    "        elif pred <= -0.5:\n",
    "            y_hat.append(-1)\n",
    "        else:\n",
    "            y_hat.append(0)\n",
    "    y_hat = np.array(y_hat)\n",
    "\n",
    "    # record error rate in this round of testing\n",
    "    errs[i - 1] = sum(y_hat != yh) / 30\n",
    "\n",
    "print(\"After {} rounds of testing, the average error rate is {}\".format(\n",
    "    N, round(np.mean(errs), 3)))\n"
   ]
  },
  {
   "cell_type": "code",
   "execution_count": null,
   "metadata": {},
   "outputs": [],
   "source": [
    "def valid_index(matrix, row_rank):\n",
    "    for row in matrix:\n",
    "        \n",
    "        if np.linalg.matrix_rank()\n"
   ]
  },
  {
   "cell_type": "markdown",
   "metadata": {},
   "source": [
    "#### 3.c"
   ]
  },
  {
   "cell_type": "code",
   "execution_count": 3,
   "metadata": {},
   "outputs": [
    {
     "ename": "LinAlgError",
     "evalue": "Singular matrix",
     "output_type": "error",
     "traceback": [
      "\u001b[0;31m---------------------------------------------------------------------------\u001b[0m",
      "\u001b[0;31mLinAlgError\u001b[0m                               Traceback (most recent call last)",
      "\u001b[1;32m/home/yifu/CMSC35300/hw/hw3.ipynb Cell 8\u001b[0m in \u001b[0;36m<cell line: 24>\u001b[0;34m()\u001b[0m\n\u001b[1;32m     <a href='vscode-notebook-cell://ssh-remote%2Blinux7.cs.uchicago.edu/home/yifu/CMSC35300/hw/hw3.ipynb#W6sdnNjb2RlLXJlbW90ZQ%3D%3D?line=47'>48</a>\u001b[0m \u001b[39m# get float prediction\u001b[39;00m\n\u001b[1;32m     <a href='vscode-notebook-cell://ssh-remote%2Blinux7.cs.uchicago.edu/home/yifu/CMSC35300/hw/hw3.ipynb#W6sdnNjb2RlLXJlbW90ZQ%3D%3D?line=48'>49</a>\u001b[0m XTX \u001b[39m=\u001b[39m np\u001b[39m.\u001b[39mdot(Xt\u001b[39m.\u001b[39mT, Xt)\n\u001b[0;32m---> <a href='vscode-notebook-cell://ssh-remote%2Blinux7.cs.uchicago.edu/home/yifu/CMSC35300/hw/hw3.ipynb#W6sdnNjb2RlLXJlbW90ZQ%3D%3D?line=49'>50</a>\u001b[0m XTX_inv \u001b[39m=\u001b[39m np\u001b[39m.\u001b[39;49mlinalg\u001b[39m.\u001b[39;49minv(XTX)\n\u001b[1;32m     <a href='vscode-notebook-cell://ssh-remote%2Blinux7.cs.uchicago.edu/home/yifu/CMSC35300/hw/hw3.ipynb#W6sdnNjb2RlLXJlbW90ZQ%3D%3D?line=51'>52</a>\u001b[0m w \u001b[39m=\u001b[39m np\u001b[39m.\u001b[39mdot(np\u001b[39m.\u001b[39mdot(XTX_inv, Xt\u001b[39m.\u001b[39mT), yt)\n\u001b[1;32m     <a href='vscode-notebook-cell://ssh-remote%2Blinux7.cs.uchicago.edu/home/yifu/CMSC35300/hw/hw3.ipynb#W6sdnNjb2RlLXJlbW90ZQ%3D%3D?line=52'>53</a>\u001b[0m a \u001b[39m=\u001b[39m np\u001b[39m.\u001b[39mdot(Xh, w)\n",
      "File \u001b[0;32m<__array_function__ internals>:180\u001b[0m, in \u001b[0;36minv\u001b[0;34m(*args, **kwargs)\u001b[0m\n",
      "File \u001b[0;32m/usr/local/lib/python3.8/dist-packages/numpy/linalg/linalg.py:552\u001b[0m, in \u001b[0;36minv\u001b[0;34m(a)\u001b[0m\n\u001b[1;32m    550\u001b[0m signature \u001b[39m=\u001b[39m \u001b[39m'\u001b[39m\u001b[39mD->D\u001b[39m\u001b[39m'\u001b[39m \u001b[39mif\u001b[39;00m isComplexType(t) \u001b[39melse\u001b[39;00m \u001b[39m'\u001b[39m\u001b[39md->d\u001b[39m\u001b[39m'\u001b[39m\n\u001b[1;32m    551\u001b[0m extobj \u001b[39m=\u001b[39m get_linalg_error_extobj(_raise_linalgerror_singular)\n\u001b[0;32m--> 552\u001b[0m ainv \u001b[39m=\u001b[39m _umath_linalg\u001b[39m.\u001b[39;49minv(a, signature\u001b[39m=\u001b[39;49msignature, extobj\u001b[39m=\u001b[39;49mextobj)\n\u001b[1;32m    553\u001b[0m \u001b[39mreturn\u001b[39;00m wrap(ainv\u001b[39m.\u001b[39mastype(result_t, copy\u001b[39m=\u001b[39m\u001b[39mFalse\u001b[39;00m))\n",
      "File \u001b[0;32m/usr/local/lib/python3.8/dist-packages/numpy/linalg/linalg.py:89\u001b[0m, in \u001b[0;36m_raise_linalgerror_singular\u001b[0;34m(err, flag)\u001b[0m\n\u001b[1;32m     88\u001b[0m \u001b[39mdef\u001b[39;00m \u001b[39m_raise_linalgerror_singular\u001b[39m(err, flag):\n\u001b[0;32m---> 89\u001b[0m     \u001b[39mraise\u001b[39;00m LinAlgError(\u001b[39m\"\u001b[39m\u001b[39mSingular matrix\u001b[39m\u001b[39m\"\u001b[39m)\n",
      "\u001b[0;31mLinAlgError\u001b[0m: Singular matrix"
     ]
    }
   ],
   "source": [
    "# STARTER CODE\n",
    "import numpy as np\n",
    "import scipy.io\n",
    "# load data, make sure ‘fisheriris.mat‘ is in your working directory\n",
    "data = scipy.io.loadmat(\"fisheriris.mat\")\n",
    "# training data\n",
    "X = data['meas']\n",
    "y = data['species']\n",
    "# YOUR CODE BELOW (process and assign numerical values to ‘y‘ according\n",
    "# to your (a), make sure ‘y‘ is a 1d numpy array. If dimensions are\n",
    "# mismatching, you may find ‘y = y.flatten()‘ useful ) \n",
    "\n",
    "y = [sp[0][0] for sp in y]\n",
    "replace = {\"setosa\": -1, \"versicolor\": 0, \"virginica\": 1}\n",
    "y = np.array([replace[sp] for sp in y])\n",
    "\n",
    "# number of random trials\n",
    "N = 1000\n",
    "# size of training set\n",
    "max_num_train = 40\n",
    "# array to store errors\n",
    "errs = np.zeros([max_num_train, N])\n",
    "\n",
    "for i in range(max_num_train):\n",
    "    num_train = i + 1\n",
    "    for j in range(N):\n",
    "        # for each experiment, randomly pick training and holdout sets\n",
    "        idx_train = np.zeros(0, dtype=np.intp)\n",
    "        idx_holdout = np.zeros(0, dtype=np.intp)\n",
    "        for label_type in range(3):\n",
    "            r = np.random.permutation(50)\n",
    "            idx_train = np.concatenate((idx_train, 50 * label_type + r[:num_train]))\n",
    "            idx_holdout = np.concatenate((idx_holdout, 50 * label_type +r[num_train:]))\n",
    "\n",
    "        if np.linalg.matrix_rank(Xt) != min(len(Xt), 4):\n",
    "            new_idx_train = []\n",
    "            for k, idx in enumerate(idx_train):\n",
    "                if np.linalg.matrix_rank(Xt[:k+1]) == min(len(Xt), 4):\n",
    "                    new_idx_train.append(idx)\n",
    "                    # overwrite idx_train\n",
    "            idx_train = np.array(new_idx_train)\n",
    "        \n",
    "        Xt = X[idx_train, :]\n",
    "        yt = y[idx_train]\n",
    "        Xh = X[idx_holdout]\n",
    "        yh = y[idx_holdout]\n",
    "\n",
    "        # get float prediction\n",
    "        XTX = np.dot(Xt.T, Xt)\n",
    "        XTX_inv = np.linalg.inv(XTX)\n",
    "\n",
    "        w = np.dot(np.dot(XTX_inv, Xt.T), yt)\n",
    "        a = np.dot(Xh, w)\n",
    "\n",
    "        # logistic function to get predicted labels\n",
    "        y_hat = [] \n",
    "        for pred in a:\n",
    "            if pred >= 0.5:\n",
    "                y_hat.append(1)\n",
    "            elif pred <= -0.5:\n",
    "                y_hat.append(-1)\n",
    "            else:\n",
    "                y_hat.append(0)\n",
    "        y_hat = np.array(y_hat)\n",
    "        # record error rate in this round of testing\n",
    "        avg_err = sum(y_hat != yh) / num_train\n",
    "        errs[i, j] = avg_err\n",
    "        \n"
   ]
  },
  {
   "cell_type": "code",
   "execution_count": null,
   "metadata": {},
   "outputs": [],
   "source": []
  },
  {
   "cell_type": "markdown",
   "metadata": {},
   "source": [
    "#### 3.d"
   ]
  },
  {
   "cell_type": "markdown",
   "metadata": {},
   "source": [
    "#### 3.e"
   ]
  },
  {
   "cell_type": "markdown",
   "metadata": {},
   "source": [
    "#### 4.a"
   ]
  },
  {
   "cell_type": "code",
   "execution_count": 6,
   "metadata": {},
   "outputs": [
    {
     "data": {
      "image/png": "[encoded data removed]",
      "text/plain": [
       "<Figure size 432x288 with 1 Axes>"
      ]
     },
     "metadata": {
      "needs_background": "light"
     },
     "output_type": "display_data"
    }
   ],
   "source": [
    "\n",
    "import numpy as np\n",
    "import numpy.matlib as mat\n",
    "import numpy.linalg as la\n",
    "import matplotlib.pyplot as plt\n",
    "\n",
    "# function f\n",
    "def f(w):\n",
    "    return w*w*np.cos(w)-w\n",
    "\n",
    "def grad_f(w):\n",
    "    return 2*w*np.cos(w)-w*w*np.sin(w)-1\n",
    "\n",
    "n = 100\n",
    "p=1\n",
    "w = np.linspace(-12,12,num=n) \n",
    "myf = f(w)\n",
    "plt.plot(w, myf, linewidth =2)\n",
    "plt.xlabel('w')\n",
    "plt.ylabel('f(w)')\n",
    "plt.show()\n"
   ]
  },
  {
   "cell_type": "code",
   "execution_count": 9,
   "metadata": {},
   "outputs": [
    {
     "data": {
      "image/png": "[encoded data removed]",
      "text/plain": [
       "<Figure size 432x288 with 1 Axes>"
      ]
     },
     "metadata": {
      "needs_background": "light"
     },
     "output_type": "display_data"
    },
    {
     "name": "stdout",
     "output_type": "stream",
     "text": [
      "[[7.        ]\n",
      " [7.22637712]\n",
      " [7.57420145]\n",
      " [8.09374818]\n",
      " [8.77853737]\n",
      " [9.39276833]\n",
      " [9.61876285]\n",
      " [9.63917741]\n",
      " [9.63986316]\n",
      " [9.6398834 ]\n",
      " [9.63988399]]\n"
     ]
    }
   ],
   "source": [
    "tau = .01\n",
    "max_iter = 10\n",
    "w_hat = np.matrix(np.zeros((max_iter+1,1)))\n",
    "f_hat = np.matrix(np.zeros((max_iter+1,1)))\n",
    "w_hat[0] = 7 # initial value of w\n",
    "f_hat[0] = f(w_hat[0]) # corresponding initial value of f\n",
    "\n",
    "for k in range(max_iter):\n",
    "    # implement gradient descent here\n",
    "    # store new w in w_hat[k+1]\n",
    "    # store new f(w) in f_hat[k+1]\n",
    "    w_hat[k+1] = w_hat[k] - tau * grad_f(w_hat[k])\n",
    "    f_hat[k+1] = f(w_hat[k+1])\n",
    "    \n",
    "plt.plot(w,myf,linewidth=2)\n",
    "plt.plot (w_hat ,f_hat,'-*',linewidth =2)\n",
    "plt.xlabel ('w')\n",
    "plt.ylabel ('f(w)')\n",
    "plt.show ()\n",
    "print(w_hat)"
   ]
  },
  {
   "cell_type": "markdown",
   "metadata": {},
   "source": [
    "From the result we can see, the w that minimized ***f(w)*** is ***w*** = 9.63988399 </p>"
   ]
  },
  {
   "cell_type": "markdown",
   "metadata": {},
   "source": [
    "The method does not necessarily always find the best w. It could also stay at a local </p>\n",
    "minimum value because the gradient descent algorithm is \"locked\" in a concave curve. </p>"
   ]
  },
  {
   "cell_type": "markdown",
   "metadata": {},
   "source": [
    "It depends on both the initial guess wˆ(1) and the step size τ. </p>\n",
    "If the initial guess is around the concaved area where minimum value is, then with gradient descent algorithm,</p>\n",
    "we can reach to somewhere closer to the minimum value after several attempts regardless of the step size τ; </p>\n",
    "If the step size τ is large, then even if we landed our initial guess somewhere far from the minimum value, we  </p>\n",
    "could still \"jump\" out of the concaved curve where the local minimum lies.</p>\n",
    "So, both factors are important to find the minimum.\n"
   ]
  },
  {
   "cell_type": "markdown",
   "metadata": {},
   "source": [
    "#### 5.b"
   ]
  },
  {
   "cell_type": "code",
   "execution_count": 10,
   "metadata": {},
   "outputs": [
    {
     "data": {
      "text/plain": [
       "Text(0, 0.5, 'y')"
      ]
     },
     "execution_count": 10,
     "metadata": {},
     "output_type": "execute_result"
    },
    {
     "data": {
      "image/png": "[encoded data removed]",
      "text/plain": [
       "<Figure size 432x288 with 1 Axes>"
      ]
     },
     "metadata": {
      "needs_background": "light"
     },
     "output_type": "display_data"
    }
   ],
   "source": [
    "import numpy as np\n",
    "import numpy.matlib as mat\n",
    "import numpy.linalg as la\n",
    "import matplotlib.pyplot as plt\n",
    "\n",
    "n = 200\n",
    "x = np.linspace(-1,1,n)\n",
    "y = np.matrix(np.cos(3*x)).T\n",
    "\n",
    "X = np.matrix([x**0, x**1, x**2, x**3, x**4, x**5]).T  # shape: (200, 6)\n",
    "\n",
    "alt_w_hat = la.inv(X.T@X)@X.T@y\n",
    "\n",
    "tau = 2.8e-3\n",
    "max_iter = 5000\n",
    "w_hat = np.matrix(np.zeros((6,max_iter+1)))\n",
    "w_hat[:,0] = np.zeros([6,1])\n",
    "\n",
    "plt.plot(x,y,linewidth =2,label='y␣=␣cos(x)')\n",
    "plt.plot(x,X@alt_w_hat,label='Least␣squares␣fit')\n",
    "plt.xlabel ('x')\n",
    "plt.ylabel ('y')"
   ]
  },
  {
   "cell_type": "code",
   "execution_count": 13,
   "metadata": {},
   "outputs": [
    {
     "data": {
      "text/plain": [
       "<matplotlib.legend.Legend at 0x7f29df2b4940>"
      ]
     },
     "execution_count": 13,
     "metadata": {},
     "output_type": "execute_result"
    },
    {
     "data": {
      "image/png": "[encoded data removed]",
      "text/plain": [
       "<Figure size 432x288 with 1 Axes>"
      ]
     },
     "metadata": {
      "needs_background": "light"
     },
     "output_type": "display_data"
    }
   ],
   "source": [
    "# function f\n",
    "def grad_f(w):\n",
    "    return -3 * np.sin(w)\n",
    "\n",
    "for k in range(max_iter):\n",
    "    ## put gradient descent code here\n",
    "    w_hat[:, k+1] = w_hat[:, k] - tau * grad_f(w_hat[:,k])\n",
    "\n",
    "ktype = np.logspace(0,np.log10(max_iter/2),5,base=10).astype(int)\n",
    "\n",
    "for k in ktype:\n",
    "    plt.plot(x,X@w_hat[:,k],'--',linewidth=1,label='Grad␣descent␣est,␣k␣=␣'+ format(k,'02d'))\n",
    "\n",
    "plt.plot(x,X@w_hat[:,max_iter],'-',linewidth=2,label='Final␣estimate,␣' + format(max_iter,'02d')+'␣iterations')\n",
    "plt.legend()\n"
   ]
  }
 ],
 "metadata": {
  "kernelspec": {
   "display_name": "Python 3.8.10 64-bit",
   "language": "python",
   "name": "python3"
  },
  "language_info": {
   "codemirror_mode": {
    "name": "ipython",
    "version": 3
   },
   "file_extension": ".py",
   "mimetype": "text/x-python",
   "name": "python",
   "nbconvert_exporter": "python",
   "pygments_lexer": "ipython3",
   "version": "3.8.10"
  },
  "orig_nbformat": 4,
  "vscode": {
   "interpreter": {
    "hash": "916dbcbb3f70747c44a77c7bcd40155683ae19c65e1c03b4aa3499c5328201f1"
   }
  }
 },
 "nbformat": 4,
 "nbformat_minor": 2
}
