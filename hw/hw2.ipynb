{
 "cells": [
  {
   "cell_type": "markdown",
   "metadata": {},
   "source": [
    "# Homework 2"
   ]
  },
  {
   "cell_type": "markdown",
   "metadata": {},
   "source": [
    "### Q4 - Smile Recognition"
   ]
  },
  {
   "cell_type": "code",
   "execution_count": 2,
   "metadata": {},
   "outputs": [],
   "source": [
    "import scipy.io as sio \n",
    "import numpy as np"
   ]
  },
  {
   "cell_type": "markdown",
   "metadata": {},
   "source": [
    "### 4 a)"
   ]
  },
  {
   "cell_type": "code",
   "execution_count": 3,
   "metadata": {},
   "outputs": [
    {
     "name": "stdout",
     "output_type": "stream",
     "text": [
      "[[ 0.94366942]\n",
      " [ 0.21373778]\n",
      " [ 0.26641775]\n",
      " [-0.39221373]\n",
      " [-0.00538552]\n",
      " [-0.01764687]\n",
      " [-0.16632809]\n",
      " [-0.0822838 ]\n",
      " [-0.16644364]]\n"
     ]
    }
   ],
   "source": [
    "##### Part a #####\n",
    "\n",
    "# load the training data X and the training labels y\n",
    "matlab_data_file = sio.loadmat('face_emotion_data.mat') \n",
    "X = matlab_data_file['X']\n",
    "y = matlab_data_file['y']\n",
    "\n",
    "# n = number of data points # p = number of features\n",
    "n, p = np.shape(X)\n",
    "\n",
    "# Solve the least-squares solution. w is the list of # weight coefficients\n",
    "inv_XTX = np.linalg.inv(np.dot(X.T, X))\n",
    "\n",
    "w = np.dot(np.dot(inv_XTX, X.T), y)\n",
    "\n",
    "print(w)"
   ]
  },
  {
   "cell_type": "markdown",
   "metadata": {},
   "source": [
    "### 4 c)"
   ]
  },
  {
   "cell_type": "markdown",
   "metadata": {},
   "source": [
    "The first 4 features seem to be the most important. </p>\n",
    "Reason: </p>\n",
    "From the weight vector: </p>\n",
    "w = [[ 0.94366942]\n",
    " [0.21373778]\n",
    " [0.26641775]\n",
    " [-0.39221373]\n",
    " [-0.00538552]\n",
    " [-0.01764687]\n",
    " [-0.16632809]\n",
    " [-0.0822838]\n",
    " [-0.16644364]] </p>\n",
    "\n",
    "We could see that the first 4 features have higher absolute values than other features, meaning they will have a heavier weight on the label.</p> \n",
    "So these features will be more important than others in recognizing smiling faces.\n",
    " "
   ]
  },
  {
   "cell_type": "markdown",
   "metadata": {},
   "source": [
    "### 4 d)"
   ]
  },
  {
   "cell_type": "markdown",
   "metadata": {},
   "source": [
    "We can use the first (index 0), thrid (index 2) and fourth (index 3) features to build the classifier,</p> \n",
    "because the three features have the largest weights and they have different signs, so they can weight</p> \n",
    "y_hat to different directions (-1 or +1) </p>\n",
    "w = [[ 0.94366942]\n",
    " [ 0.26641775]\n",
    " [-0.39221373] </p>\n",
    "\n",
    "With this classifier, we only extract the three features, multiply with the new weight vector</p> \n",
    "to get the result a (1*1). </p>\n",
    "y_hat = +1, if a > 0 </p>\n",
    "y_hat = -1, if a <= 0\n"
   ]
  },
  {
   "cell_type": "markdown",
   "metadata": {},
   "source": [
    "### 4 e)"
   ]
  },
  {
   "cell_type": "code",
   "execution_count": 94,
   "metadata": {},
   "outputs": [],
   "source": [
    "# Function to record and calculate the mean of error rates from cross validation\n",
    "\n",
    "def cross_validation(X, y, N):\n",
    "    '''\n",
    "    Calculate the average accuracy of the prdiction by N rounds\n",
    "\n",
    "    Inputs:\n",
    "      X: feature matrix (n * p) \n",
    "         where n = # data points\n",
    "         and   p = # features\n",
    "      y: label matrix (n * 1)\n",
    "      N: # of rounds/ # of split groups\n",
    "    \n",
    "    Return:\n",
    "      (float) average error rate over N rounds of tests\n",
    "    '''\n",
    "\n",
    "    # n = number of data points\n",
    "    n, _ = np.shape(X)\n",
    "\n",
    "    error_rates = []\n",
    "\n",
    "    for i in range(int(n/N)):\n",
    "\n",
    "        # Split X and y\n",
    "        lb = i * N\n",
    "        ub = (i + 1) * N\n",
    "        X_hold = X[lb:ub]\n",
    "        y_hold = y[lb:ub]\n",
    "        X_learn = np.concatenate((X[:lb], X[ub:]))\n",
    "        y_learn = np.concatenate((y[:lb], y[ub:]))\n",
    "\n",
    "        # Calculate z, which has the same sign as y_hat\n",
    "        inv_XTX = np.linalg.inv(np.dot(X_learn.T, X_learn))\n",
    "        w = np.dot(np.dot(inv_XTX, X_learn.T), y_learn)\n",
    "        z = np.dot(X_hold, w)\n",
    "\n",
    "        # Check if z and y_hold have the different sign (estimate is wrong)\n",
    "        # (so we know if y_hat and y_hold have the different sign)\n",
    "        err = (z * y_hold < 0).sum() / N\n",
    "        error_rates.append(err)\n",
    "    \n",
    "    return np.mean(error_rates)\n"
   ]
  },
  {
   "cell_type": "code",
   "execution_count": 95,
   "metadata": {},
   "outputs": [
    {
     "name": "stdout",
     "output_type": "stream",
     "text": [
      "With 3 features we chose, the average error rate among 8 groups is 0.0625\n",
      "With all 9 features we chose, the average error rate among 8 groups is 0.0390625\n"
     ]
    }
   ],
   "source": [
    "# Split into N = 8 sets, test N = 8 rounds\n",
    "N = 8\n",
    "\n",
    "# Extract the three target features\n",
    "new_X = X[:, [0,1,2]]\n",
    "\n",
    "# Cross-validation on 3 features and 9 features\n",
    "acc_3 = cross_validation(new_X, y, 8)\n",
    "acc_9 = cross_validation(X, y, 8)\n",
    "\n",
    "print(\"With 3 features we chose, the average error rate among {} groups is {}\".format(N, acc_3))\n",
    "print(\"With all 9 features we chose, the average error rate among {} groups is {}\".format(N, acc_9))"
   ]
  },
  {
   "cell_type": "markdown",
   "metadata": {},
   "source": [
    "### 4 f)"
   ]
  },
  {
   "cell_type": "markdown",
   "metadata": {},
   "source": [
    "The estimated error rate using all 9 features is 0.0390625 </p>\n",
    "The estimated error rate using the 3 features we chose in (d) above is 0.0625"
   ]
  }
 ],
 "metadata": {
  "kernelspec": {
   "display_name": "Python 3.8.10 64-bit",
   "language": "python",
   "name": "python3"
  },
  "language_info": {
   "codemirror_mode": {
    "name": "ipython",
    "version": 3
   },
   "file_extension": ".py",
   "mimetype": "text/x-python",
   "name": "python",
   "nbconvert_exporter": "python",
   "pygments_lexer": "ipython3",
   "version": "3.8.10"
  },
  "orig_nbformat": 4,
  "vscode": {
   "interpreter": {
    "hash": "916dbcbb3f70747c44a77c7bcd40155683ae19c65e1c03b4aa3499c5328201f1"
   }
  }
 },
 "nbformat": 4,
 "nbformat_minor": 2
}
