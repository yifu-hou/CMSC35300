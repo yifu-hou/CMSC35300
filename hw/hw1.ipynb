{
 "cells": [
  {
   "cell_type": "markdown",
   "metadata": {},
   "source": [
    "# Homework 1"
   ]
  },
  {
   "cell_type": "code",
   "execution_count": 2,
   "metadata": {},
   "outputs": [],
   "source": [
    "import numpy as np\n",
    "from random import randint"
   ]
  },
  {
   "cell_type": "markdown",
   "metadata": {},
   "source": [
    "### Q1 - e: script for question 1"
   ]
  },
  {
   "cell_type": "markdown",
   "metadata": {},
   "source": [
    "#### a) build the matrix"
   ]
  },
  {
   "cell_type": "code",
   "execution_count": 3,
   "metadata": {},
   "outputs": [
    {
     "name": "stdout",
     "output_type": "stream",
     "text": [
      "[[2500  350  200]\n",
      " [2000  405  250]\n",
      " [2000  325  400]\n",
      " [2000  210  450]]\n"
     ]
    }
   ],
   "source": [
    "X = np.array([\n",
    "    [2500, 350, 200], \n",
    "    [2000, 405, 250], \n",
    "    [2000, 325, 400], \n",
    "    [2000, 210, 450]]\n",
    "    )\n",
    "print(X)"
   ]
  },
  {
   "cell_type": "markdown",
   "metadata": {},
   "source": [
    "#### b) get total expense for each month:"
   ]
  },
  {
   "cell_type": "code",
   "execution_count": 4,
   "metadata": {},
   "outputs": [
    {
     "name": "stdout",
     "output_type": "stream",
     "text": [
      "Get the expenses by month:\n",
      "[3050 2655 2725 2660]\n"
     ]
    }
   ],
   "source": [
    "w1 = np.array([1, 1, 1])\n",
    "by_month = np.dot(X, w1)\n",
    "print(\"Get the expenses by month:\")\n",
    "print(by_month)"
   ]
  },
  {
   "cell_type": "markdown",
   "metadata": {},
   "source": [
    "#### c) calculate the total expenses in each category across all months"
   ]
  },
  {
   "cell_type": "code",
   "execution_count": 5,
   "metadata": {},
   "outputs": [
    {
     "name": "stdout",
     "output_type": "stream",
     "text": [
      "Get the expenses by category:\n",
      "[8500 1290 1300]\n"
     ]
    }
   ],
   "source": [
    "w2 = np.array([1, 1, 1, 1])\n",
    "by_category = np.dot(X.T, w2)\n",
    "print(\"Get the expenses by category:\")\n",
    "print(by_category)"
   ]
  },
  {
   "cell_type": "markdown",
   "metadata": {},
   "source": [
    "#### d) calculate total expenses across all categories and months"
   ]
  },
  {
   "cell_type": "code",
   "execution_count": 6,
   "metadata": {},
   "outputs": [
    {
     "name": "stdout",
     "output_type": "stream",
     "text": [
      "Get total expense:\n",
      "11090\n"
     ]
    }
   ],
   "source": [
    "total = np.dot(np.dot(X, w1).T, w2)\n",
    "print(\"Get total expense:\")\n",
    "print(total)"
   ]
  },
  {
   "cell_type": "markdown",
   "metadata": {},
   "source": [
    "### Q2 - g) varify the calculation above"
   ]
  },
  {
   "cell_type": "code",
   "execution_count": 7,
   "metadata": {},
   "outputs": [],
   "source": [
    "X = np.array([\n",
    "    [8, 0, 1, 1],\n",
    "    [9, 2, 9, 4],\n",
    "    [1, 5, 9, 9], \n",
    "    [9, 9, 4, 7], \n",
    "    [6, 9, 8, 9]\n",
    "])"
   ]
  },
  {
   "cell_type": "markdown",
   "metadata": {},
   "source": [
    "#### a) get the fourth row of X with 5 * 1 vector y:"
   ]
  },
  {
   "cell_type": "code",
   "execution_count": 8,
   "metadata": {},
   "outputs": [
    {
     "name": "stdout",
     "output_type": "stream",
     "text": [
      "Get the fourth row:\n",
      "[9 9 4 7]\n"
     ]
    }
   ],
   "source": [
    "y = np.array([0, 0, 0, 1, 0])\n",
    "rv = np.dot(y.T, X)\n",
    "print(\"Get the fourth row:\")\n",
    "print(rv)"
   ]
  },
  {
   "cell_type": "markdown",
   "metadata": {},
   "source": [
    "#### b) what vector should y be?"
   ]
  },
  {
   "cell_type": "code",
   "execution_count": 9,
   "metadata": {},
   "outputs": [
    {
     "name": "stdout",
     "output_type": "stream",
     "text": [
      "Get the 5 row of X:\n",
      "[6. 9. 8. 9.]\n"
     ]
    }
   ],
   "source": [
    "k = randint(1, 5)\n",
    "y = np.zeros(5)\n",
    "y[k - 1] = 1\n",
    "\n",
    "print(\"Get the {} row of X:\".format(k))\n",
    "print(np.dot(y.T, X))\n"
   ]
  },
  {
   "cell_type": "markdown",
   "metadata": {},
   "source": [
    "#### c) use y vector to get a * k-th row and b * j-th row "
   ]
  },
  {
   "cell_type": "code",
   "execution_count": 12,
   "metadata": {},
   "outputs": [
    {
     "name": "stdout",
     "output_type": "stream",
     "text": [
      "Randomly choose to get row #1 * 6 + row #5 * 7\n",
      "Expect:\n",
      "[90 63 62 69]\n",
      "Result by matrix multiplication:\n",
      "[90. 63. 62. 69.]\n"
     ]
    }
   ],
   "source": [
    "# let's choose a, b randomly in range [1, 10]\n",
    "a = randint(1, 10)\n",
    "b = randint(1, 10)\n",
    "k = randint(1, 5)\n",
    "j = randint(1, 5)\n",
    "assert(k != j)\n",
    "\n",
    "y = np.zeros(5)\n",
    "y[k - 1] = a\n",
    "y[j - 1] = b\n",
    "\n",
    "rv = np.dot(y, X)\n",
    "\n",
    "print(\"Randomly choose to get row #{} * {} + row #{} * {}\".\n",
    "format(k, a, j, b))\n",
    "print(\"Expect:\")\n",
    "print(X[k - 1] * a + X[j - 1] * b)\n",
    "print(\"Result by matrix multiplication:\")\n",
    "print(rv)"
   ]
  },
  {
   "cell_type": "markdown",
   "metadata": {},
   "source": [
    "#### d) find vector to get the third column of X"
   ]
  },
  {
   "cell_type": "code",
   "execution_count": 13,
   "metadata": {},
   "outputs": [
    {
     "name": "stdout",
     "output_type": "stream",
     "text": [
      "Get the third column of X:\n",
      "[1 9 9 4 8]\n"
     ]
    }
   ],
   "source": [
    "w = np.array([0, 0, 1, 0])\n",
    "rv = np.dot(X, w)\n",
    "\n",
    "print(\"Get the third column of X:\")\n",
    "print(rv)"
   ]
  },
  {
   "cell_type": "markdown",
   "metadata": {},
   "source": [
    "#### e) construct a vector w to make Xw the k-th column of X"
   ]
  },
  {
   "cell_type": "code",
   "execution_count": 14,
   "metadata": {},
   "outputs": [
    {
     "name": "stdout",
     "output_type": "stream",
     "text": [
      "Randomly choose to get the 4 column of X:\n",
      "[1. 4. 9. 7. 9.]\n"
     ]
    }
   ],
   "source": [
    "k = randint(1,4)\n",
    "\n",
    "w = np.zeros(4)\n",
    "w[k - 1] = 1\n",
    "\n",
    "print(\"Randomly choose to get the {} column of X:\".format(k))\n",
    "print(np.dot(X, w))"
   ]
  },
  {
   "cell_type": "markdown",
   "metadata": {},
   "source": [
    "#### f) construct a vector w to make Xw a times the k-th column of X plus b times the j-th column of X"
   ]
  },
  {
   "cell_type": "code",
   "execution_count": 15,
   "metadata": {},
   "outputs": [
    {
     "name": "stdout",
     "output_type": "stream",
     "text": [
      "Randomly choose to get col #3 * 8 + col #4 * 1\n",
      "Result by matrix multiplication:\n",
      "[ 9. 76. 81. 39. 73.]\n"
     ]
    }
   ],
   "source": [
    "# let's choose a, b randomly in range [1, 10]\n",
    "a = randint(1, 10)\n",
    "b = randint(1, 10)\n",
    "k = randint(1, 4)\n",
    "j = randint(1, 4)\n",
    "assert(k != j)\n",
    "\n",
    "w = np.zeros(4)\n",
    "\n",
    "w[k - 1] = a\n",
    "w[j - 1] = b\n",
    "rv = np.dot(X, w)\n",
    "\n",
    "print(\"Randomly choose to get col #{} * {} + col #{} * {}\".\n",
    "format(k, a, j, b))\n",
    "print(\"Result by matrix multiplication:\")\n",
    "print(rv)"
   ]
  },
  {
   "cell_type": "markdown",
   "metadata": {},
   "source": [
    "### Q5 - c Create the polinomial model"
   ]
  },
  {
   "cell_type": "code",
   "execution_count": 5,
   "metadata": {},
   "outputs": [],
   "source": [
    "import numpy as np\n",
    "import scipy.io as sio\n",
    "import matplotlib.pyplot as plt\n",
    "\n",
    "# n = number of points\n",
    "# z = points where polynomial is evaluated\n",
    "# p = array to store the values of the interpolated polynomials\n",
    "n = 100\n",
    "z = np.linspace(-1, 1, n)\n",
    "\n",
    "d = 3 # degree\n",
    "w = np.random.rand(d) \n",
    "X = np.zeros((n,d))\n",
    "\n",
    "# evaluate polynomial at all points z, and store the result in p # do NOT use a loop for this\n",
    "# plot the datapoints and the best-fit polynomials\n",
    "X = np.array([z**0, z**1, z**2])\n",
    "\n",
    "# generate X-matrix\n",
    "p = np.dot(X.T, w)\n"
   ]
  },
  {
   "cell_type": "code",
   "execution_count": 6,
   "metadata": {},
   "outputs": [
    {
     "data": {
      "image/png": "[encoded data removed]",
      "text/plain": [
       "<Figure size 432x288 with 1 Axes>"
      ]
     },
     "metadata": {
      "needs_background": "light"
     },
     "output_type": "display_data"
    }
   ],
   "source": [
    "plt.plot(z, p, linewidth=2)\n",
    "plt.xlabel('z')\n",
    "plt.ylabel('y') \n",
    "plt.title('polynomial␣with␣coefficients␣w␣=␣%s' %w ) \n",
    "plt.show()"
   ]
  }
 ],
 "metadata": {
  "kernelspec": {
   "display_name": "Python 3.8.10 64-bit",
   "language": "python",
   "name": "python3"
  },
  "language_info": {
   "codemirror_mode": {
    "name": "ipython",
    "version": 3
   },
   "file_extension": ".py",
   "mimetype": "text/x-python",
   "name": "python",
   "nbconvert_exporter": "python",
   "pygments_lexer": "ipython3",
   "version": "3.8.10"
  },
  "orig_nbformat": 4,
  "vscode": {
   "interpreter": {
    "hash": "916dbcbb3f70747c44a77c7bcd40155683ae19c65e1c03b4aa3499c5328201f1"
   }
  }
 },
 "nbformat": 4,
 "nbformat_minor": 2
}
